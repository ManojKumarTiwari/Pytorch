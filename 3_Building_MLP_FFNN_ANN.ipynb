{
  "nbformat": 4,
  "nbformat_minor": 0,
  "metadata": {
    "colab": {
      "name": "3_Building_MLP_FFNN_ANN.ipynb",
      "provenance": [],
      "authorship_tag": "ABX9TyNrtB1tHz7LMGOSsX71qW06",
      "include_colab_link": true
    },
    "kernelspec": {
      "name": "python3",
      "display_name": "Python 3"
    }
  },
  "cells": [
    {
      "cell_type": "markdown",
      "metadata": {
        "id": "view-in-github",
        "colab_type": "text"
      },
      "source": [
        "<a href=\"https://colab.research.google.com/github/ManojKumarTiwari/Pytorch/blob/master/3_Building_MLP_FFNN_ANN.ipynb\" target=\"_parent\"><img src=\"https://colab.research.google.com/assets/colab-badge.svg\" alt=\"Open In Colab\"/></a>"
      ]
    },
    {
      "cell_type": "code",
      "metadata": {
        "id": "lSlIizlqgJr6",
        "colab_type": "code",
        "colab": {}
      },
      "source": [
        "import torch\n",
        "import torchvision\n",
        "from torchvision import transforms, datasets"
      ],
      "execution_count": 0,
      "outputs": []
    },
    {
      "cell_type": "code",
      "metadata": {
        "id": "9IFCZnVqgqkC",
        "colab_type": "code",
        "colab": {}
      },
      "source": [
        "import torch.nn as nn\n",
        "import torch.nn.functional as F"
      ],
      "execution_count": 0,
      "outputs": []
    },
    {
      "cell_type": "code",
      "metadata": {
        "id": "UpQRyNjCg2Nw",
        "colab_type": "code",
        "colab": {}
      },
      "source": [
        "train = datasets.MNIST(\"\",train=True,download=True,\n",
        "                       transform=transforms.Compose([\n",
        "                                                      transforms.ToTensor()\n",
        "                       ]))\n",
        "\n",
        "test = datasets.MNIST(\"\",train=False,download=True,\n",
        "                       transform=transforms.Compose([\n",
        "                                                      transforms.ToTensor()\n",
        "                       ]))"
      ],
      "execution_count": 0,
      "outputs": []
    },
    {
      "cell_type": "code",
      "metadata": {
        "id": "1FeSPgykhlfA",
        "colab_type": "code",
        "colab": {}
      },
      "source": [
        "trainset = torch.utils.data.DataLoader(train,batch_size=10,shuffle=True)\n",
        "testset = torch.utils.data.DataLoader(test,batch_size=10,shuffle=True)"
      ],
      "execution_count": 0,
      "outputs": []
    },
    {
      "cell_type": "code",
      "metadata": {
        "id": "LQQ6-k0jiA1R",
        "colab_type": "code",
        "colab": {
          "base_uri": "https://localhost:8080/",
          "height": 119
        },
        "outputId": "719395ac-ed7a-4691-a3c5-2f741da01f2d"
      },
      "source": [
        "class Net(nn.Module):\n",
        "  def __init__(self):\n",
        "    super().__init__()\n",
        "    self.fc1 = nn.Linear(28*28,64)\n",
        "    self.fc2 = nn.Linear(64,64)\n",
        "    self.fc3 = nn.Linear(64,64)\n",
        "    self.fc4 = nn.Linear(64,10)\n",
        "\n",
        "  def forward(self,x):\n",
        "    x = F.relu(self.fc1(x))\n",
        "    x = F.relu(self.fc2(x))\n",
        "    x = F.relu(self.fc3(x))\n",
        "    x = self.fc4(x)\n",
        "\n",
        "    return F.log_softmax(x,dim=1)\n",
        "\n",
        "net = Net()\n",
        "    \n",
        "print(net)"
      ],
      "execution_count": 12,
      "outputs": [
        {
          "output_type": "stream",
          "text": [
            "Net(\n",
            "  (fc1): Linear(in_features=784, out_features=64, bias=True)\n",
            "  (fc2): Linear(in_features=64, out_features=64, bias=True)\n",
            "  (fc3): Linear(in_features=64, out_features=64, bias=True)\n",
            "  (fc4): Linear(in_features=64, out_features=10, bias=True)\n",
            ")\n"
          ],
          "name": "stdout"
        }
      ]
    },
    {
      "cell_type": "code",
      "metadata": {
        "id": "vTW_iSGGkuJl",
        "colab_type": "code",
        "colab": {}
      },
      "source": [
        "X = torch.randn(28*28)"
      ],
      "execution_count": 0,
      "outputs": []
    },
    {
      "cell_type": "code",
      "metadata": {
        "id": "sEm3_QG4lPBw",
        "colab_type": "code",
        "colab": {}
      },
      "source": [
        "X = X.view(-1,28*28)"
      ],
      "execution_count": 0,
      "outputs": []
    },
    {
      "cell_type": "code",
      "metadata": {
        "id": "1qErishhlbzh",
        "colab_type": "code",
        "colab": {
          "base_uri": "https://localhost:8080/",
          "height": 51
        },
        "outputId": "df711c5f-befa-46ab-d435-4efa67e64aa4"
      },
      "source": [
        "output = net(X)\n",
        "output"
      ],
      "execution_count": 18,
      "outputs": [
        {
          "output_type": "execute_result",
          "data": {
            "text/plain": [
              "tensor([[-2.2996, -2.3831, -2.2392, -2.3600, -2.3641, -2.3088, -2.3188, -2.1955,\n",
              "         -2.3306, -2.2432]], grad_fn=<LogSoftmaxBackward>)"
            ]
          },
          "metadata": {
            "tags": []
          },
          "execution_count": 18
        }
      ]
    },
    {
      "cell_type": "code",
      "metadata": {
        "id": "JfoVWChflesB",
        "colab_type": "code",
        "colab": {}
      },
      "source": [
        ""
      ],
      "execution_count": 0,
      "outputs": []
    }
  ]
}