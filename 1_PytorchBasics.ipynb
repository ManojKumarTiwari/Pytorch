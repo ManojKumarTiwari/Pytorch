{
  "nbformat": 4,
  "nbformat_minor": 0,
  "metadata": {
    "colab": {
      "name": "1_PytorchBasics.ipynb",
      "provenance": [],
      "authorship_tag": "ABX9TyOH4aHy7ozZPvuhmhEdlGih",
      "include_colab_link": true
    },
    "kernelspec": {
      "name": "python3",
      "display_name": "Python 3"
    }
  },
  "cells": [
    {
      "cell_type": "markdown",
      "metadata": {
        "id": "view-in-github",
        "colab_type": "text"
      },
      "source": [
        "<a href=\"https://colab.research.google.com/github/ManojKumarTiwari/Pytorch/blob/master/1_PytorchBasics.ipynb\" target=\"_parent\"><img src=\"https://colab.research.google.com/assets/colab-badge.svg\" alt=\"Open In Colab\"/></a>"
      ]
    },
    {
      "cell_type": "code",
      "metadata": {
        "id": "Wwc6wDifXh17",
        "colab_type": "code",
        "colab": {}
      },
      "source": [
        "import torch"
      ],
      "execution_count": 0,
      "outputs": []
    },
    {
      "cell_type": "code",
      "metadata": {
        "id": "olgqL9v3XkPU",
        "colab_type": "code",
        "colab": {}
      },
      "source": [
        "x = torch.Tensor([2,3])\n",
        "y = torch.Tensor([5,2])"
      ],
      "execution_count": 0,
      "outputs": []
    },
    {
      "cell_type": "code",
      "metadata": {
        "id": "GIfoiuOuXtpC",
        "colab_type": "code",
        "outputId": "e80b620f-1d1e-40b1-9783-b051c568ff94",
        "colab": {
          "base_uri": "https://localhost:8080/",
          "height": 34
        }
      },
      "source": [
        "x, y"
      ],
      "execution_count": 0,
      "outputs": [
        {
          "output_type": "execute_result",
          "data": {
            "text/plain": [
              "(tensor([2., 3.]), tensor([5., 2.]))"
            ]
          },
          "metadata": {
            "tags": []
          },
          "execution_count": 5
        }
      ]
    },
    {
      "cell_type": "code",
      "metadata": {
        "id": "6kv3ujRAX2WB",
        "colab_type": "code",
        "outputId": "a91ce7a2-6c5d-4803-cb6e-b7c328056cd8",
        "colab": {
          "base_uri": "https://localhost:8080/",
          "height": 34
        }
      },
      "source": [
        "t = print(x * y)"
      ],
      "execution_count": 0,
      "outputs": [
        {
          "output_type": "stream",
          "text": [
            "tensor([10.,  6.])\n"
          ],
          "name": "stdout"
        }
      ]
    },
    {
      "cell_type": "code",
      "metadata": {
        "id": "ljpwDL42X9WB",
        "colab_type": "code",
        "outputId": "97f165db-0a14-4253-cdbb-0cb46d7247d7",
        "colab": {
          "base_uri": "https://localhost:8080/",
          "height": 51
        }
      },
      "source": [
        "z = torch.zeros(2,5)\n",
        "z"
      ],
      "execution_count": 0,
      "outputs": [
        {
          "output_type": "execute_result",
          "data": {
            "text/plain": [
              "tensor([[0., 0., 0., 0., 0.],\n",
              "        [0., 0., 0., 0., 0.]])"
            ]
          },
          "metadata": {
            "tags": []
          },
          "execution_count": 8
        }
      ]
    },
    {
      "cell_type": "code",
      "metadata": {
        "id": "1ZN_ds3mYDpB",
        "colab_type": "code",
        "outputId": "d00f7668-5ea5-4bdc-9405-cdeac4a2a350",
        "colab": {
          "base_uri": "https://localhost:8080/",
          "height": 51
        }
      },
      "source": [
        "r = torch.rand(2,4)\n",
        "r"
      ],
      "execution_count": 0,
      "outputs": [
        {
          "output_type": "execute_result",
          "data": {
            "text/plain": [
              "tensor([[0.5553, 0.6962, 0.1463, 0.4648],\n",
              "        [0.2930, 0.4715, 0.5697, 0.3292]])"
            ]
          },
          "metadata": {
            "tags": []
          },
          "execution_count": 13
        }
      ]
    },
    {
      "cell_type": "code",
      "metadata": {
        "id": "l135HdwqYNzj",
        "colab_type": "code",
        "outputId": "dcaf20b3-1109-4d5f-bafa-b37b2a237f2a",
        "colab": {
          "base_uri": "https://localhost:8080/",
          "height": 34
        }
      },
      "source": [
        "r.shape"
      ],
      "execution_count": 0,
      "outputs": [
        {
          "output_type": "execute_result",
          "data": {
            "text/plain": [
              "torch.Size([2, 4])"
            ]
          },
          "metadata": {
            "tags": []
          },
          "execution_count": 14
        }
      ]
    },
    {
      "cell_type": "code",
      "metadata": {
        "id": "8lR86k2VYXEB",
        "colab_type": "code",
        "outputId": "82c941a7-c83c-48b7-d126-7266dd23af11",
        "colab": {
          "base_uri": "https://localhost:8080/",
          "height": 34
        }
      },
      "source": [
        "r.view([1,8])"
      ],
      "execution_count": 0,
      "outputs": [
        {
          "output_type": "execute_result",
          "data": {
            "text/plain": [
              "tensor([[0.5553, 0.6962, 0.1463, 0.4648, 0.2930, 0.4715, 0.5697, 0.3292]])"
            ]
          },
          "metadata": {
            "tags": []
          },
          "execution_count": 15
        }
      ]
    },
    {
      "cell_type": "code",
      "metadata": {
        "id": "tlvHsaVjY-IV",
        "colab_type": "code",
        "outputId": "4a193ed0-3f42-4828-fb22-8db0fd78d43f",
        "colab": {
          "base_uri": "https://localhost:8080/",
          "height": 153
        }
      },
      "source": [
        "r.view([8,1])"
      ],
      "execution_count": 0,
      "outputs": [
        {
          "output_type": "execute_result",
          "data": {
            "text/plain": [
              "tensor([[0.5553],\n",
              "        [0.6962],\n",
              "        [0.1463],\n",
              "        [0.4648],\n",
              "        [0.2930],\n",
              "        [0.4715],\n",
              "        [0.5697],\n",
              "        [0.3292]])"
            ]
          },
          "metadata": {
            "tags": []
          },
          "execution_count": 17
        }
      ]
    },
    {
      "cell_type": "code",
      "metadata": {
        "id": "jkFH8wwTZVRC",
        "colab_type": "code",
        "outputId": "ef7e0c86-b4ef-429c-bb0e-7d4dbb8a33f9",
        "colab": {
          "base_uri": "https://localhost:8080/",
          "height": 51
        }
      },
      "source": [
        "r"
      ],
      "execution_count": 0,
      "outputs": [
        {
          "output_type": "execute_result",
          "data": {
            "text/plain": [
              "tensor([[0.5553, 0.6962, 0.1463, 0.4648],\n",
              "        [0.2930, 0.4715, 0.5697, 0.3292]])"
            ]
          },
          "metadata": {
            "tags": []
          },
          "execution_count": 18
        }
      ]
    },
    {
      "cell_type": "code",
      "metadata": {
        "id": "inxdWiiXZZ9y",
        "colab_type": "code",
        "colab": {}
      },
      "source": [
        "r = r.view([1,8])"
      ],
      "execution_count": 0,
      "outputs": []
    },
    {
      "cell_type": "code",
      "metadata": {
        "id": "w8I0gaW6ZeiC",
        "colab_type": "code",
        "outputId": "16927fd6-6106-42c0-b25c-721afc3a67fc",
        "colab": {
          "base_uri": "https://localhost:8080/",
          "height": 34
        }
      },
      "source": [
        "r"
      ],
      "execution_count": 0,
      "outputs": [
        {
          "output_type": "execute_result",
          "data": {
            "text/plain": [
              "tensor([[0.5553, 0.6962, 0.1463, 0.4648, 0.2930, 0.4715, 0.5697, 0.3292]])"
            ]
          },
          "metadata": {
            "tags": []
          },
          "execution_count": 20
        }
      ]
    },
    {
      "cell_type": "code",
      "metadata": {
        "id": "mSGHxBFyZfji",
        "colab_type": "code",
        "colab": {}
      },
      "source": [
        ""
      ],
      "execution_count": 0,
      "outputs": []
    }
  ]
}