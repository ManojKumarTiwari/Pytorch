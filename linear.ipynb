{
  "nbformat": 4,
  "nbformat_minor": 0,
  "metadata": {
    "colab": {
      "name": "linear.ipynb",
      "provenance": [],
      "toc_visible": true,
      "authorship_tag": "ABX9TyMmx34xGAHtJZyM4yfqMIHj",
      "include_colab_link": true
    },
    "kernelspec": {
      "name": "python3",
      "display_name": "Python 3"
    }
  },
  "cells": [
    {
      "cell_type": "markdown",
      "metadata": {
        "id": "view-in-github",
        "colab_type": "text"
      },
      "source": [
        "<a href=\"https://colab.research.google.com/github/ManojKumarTiwari/Pytorch/blob/master/linear.ipynb\" target=\"_parent\"><img src=\"https://colab.research.google.com/assets/colab-badge.svg\" alt=\"Open In Colab\"/></a>"
      ]
    },
    {
      "cell_type": "code",
      "metadata": {
        "id": "7wwEZeVQOi7R"
      },
      "source": [
        "import numpy as np\r\n",
        "import torch\r\n",
        "from torch.utils import data \r\n",
        "import torch.nn as nn"
      ],
      "execution_count": null,
      "outputs": []
    },
    {
      "cell_type": "markdown",
      "metadata": {
        "id": "luuc4jNhjeGj"
      },
      "source": [
        "# Get the Data"
      ]
    },
    {
      "cell_type": "code",
      "metadata": {
        "id": "OZQQxN1yPnKA"
      },
      "source": [
        "def synthetic_data(w, b, num_examples):\r\n",
        "  \"\"\"Generate y = Xw + b + noise\"\"\"\r\n",
        "  X = np.random.normal(0, 1, size=(num_examples, len(w)))\r\n",
        "  y = np.dot(X, w) + b\r\n",
        "  y += np.random.normal(0, 0.01, size=y.shape)\r\n",
        "  X = torch.from_numpy(X)\r\n",
        "  y = y.reshape((-1,1))\r\n",
        "  y = torch.from_numpy(y)\r\n",
        "  return X, y"
      ],
      "execution_count": null,
      "outputs": []
    },
    {
      "cell_type": "code",
      "metadata": {
        "id": "eFo1DTSqRMag"
      },
      "source": [
        "true_w = torch.tensor([2, -3.4])\r\n",
        "true_b = 4.2\r\n",
        "features, labels = synthetic_data(true_w, true_b, 1000)"
      ],
      "execution_count": null,
      "outputs": []
    },
    {
      "cell_type": "code",
      "metadata": {
        "id": "uC8cL-OmrQ6e"
      },
      "source": [
        "# features = torch.tensor(features, dtype=torch.float)\r\n",
        "# labels = torch.tensor(labels, dtype=torch.float)"
      ],
      "execution_count": null,
      "outputs": []
    },
    {
      "cell_type": "markdown",
      "metadata": {
        "id": "0eryw2XfjiS6"
      },
      "source": [
        "# Read the Dataset"
      ]
    },
    {
      "cell_type": "code",
      "metadata": {
        "id": "G8t4US2eRuf4"
      },
      "source": [
        "def load_array(data_arrays, batch_size, is_train=True):\r\n",
        "  \"\"\"Construct a pytorch  data iterator\"\"\"\r\n",
        "  dataset = data.TensorDataset(*data_arrays)\r\n",
        "  return data.DataLoader(dataset, batch_size, shuffle=is_train)"
      ],
      "execution_count": null,
      "outputs": []
    },
    {
      "cell_type": "code",
      "metadata": {
        "id": "ByDxo_RmWGZO"
      },
      "source": [
        "batch_size = 10\r\n",
        "data_iter = load_array((features, labels), batch_size)"
      ],
      "execution_count": null,
      "outputs": []
    },
    {
      "cell_type": "code",
      "metadata": {
        "colab": {
          "base_uri": "https://localhost:8080/"
        },
        "id": "FdYLkbX3WUUY",
        "outputId": "78983ba0-4c51-4e96-cb81-bb0ec8fdea66"
      },
      "source": [
        "next(iter(data_iter))"
      ],
      "execution_count": null,
      "outputs": [
        {
          "output_type": "execute_result",
          "data": {
            "text/plain": [
              "[tensor([[-0.1065, -0.0911],\n",
              "         [-0.5158,  1.6524],\n",
              "         [-0.8033, -1.2540],\n",
              "         [-0.2777, -0.3945],\n",
              "         [-1.4618,  0.8006],\n",
              "         [ 0.5679,  0.4481],\n",
              "         [-1.0139, -0.2988],\n",
              "         [ 0.2597, -0.9180],\n",
              "         [-0.9094, -0.1018],\n",
              "         [ 0.3708, -0.4086]], dtype=torch.float64), tensor([[ 4.2975],\n",
              "         [-2.4544],\n",
              "         [ 6.8462],\n",
              "         [ 4.9959],\n",
              "         [-1.4531],\n",
              "         [ 3.8325],\n",
              "         [ 3.1846],\n",
              "         [ 7.8498],\n",
              "         [ 2.7425],\n",
              "         [ 6.3354]], dtype=torch.float64)]"
            ]
          },
          "metadata": {
            "tags": []
          },
          "execution_count": 92
        }
      ]
    },
    {
      "cell_type": "markdown",
      "metadata": {
        "id": "5IRmU822jsWM"
      },
      "source": [
        "# Model"
      ]
    },
    {
      "cell_type": "code",
      "metadata": {
        "id": "dZaqFpc8apYL"
      },
      "source": [
        "net = nn.Sequential(nn.Linear(2, 1))"
      ],
      "execution_count": null,
      "outputs": []
    },
    {
      "cell_type": "code",
      "metadata": {
        "colab": {
          "base_uri": "https://localhost:8080/"
        },
        "id": "viItEUkpuoeC",
        "outputId": "1de30f58-5759-4e2d-d37d-1a704fe23d07"
      },
      "source": [
        "net.double()"
      ],
      "execution_count": null,
      "outputs": [
        {
          "output_type": "execute_result",
          "data": {
            "text/plain": [
              "Sequential(\n",
              "  (0): Linear(in_features=2, out_features=1, bias=True)\n",
              ")"
            ]
          },
          "metadata": {
            "tags": []
          },
          "execution_count": 94
        }
      ]
    },
    {
      "cell_type": "markdown",
      "metadata": {
        "id": "Yc38Hc0plDG2"
      },
      "source": [
        "# Initialize model parameters"
      ]
    },
    {
      "cell_type": "code",
      "metadata": {
        "colab": {
          "base_uri": "https://localhost:8080/"
        },
        "id": "40Mph9sNlACv",
        "outputId": "d9e52c90-3e00-4ca5-e58f-d6e3c77f75df"
      },
      "source": [
        "net[0].weight.data.normal_(0, 0.01)\r\n",
        "net[0].bias.data.fill_(0)"
      ],
      "execution_count": null,
      "outputs": [
        {
          "output_type": "execute_result",
          "data": {
            "text/plain": [
              "tensor([0.], dtype=torch.float64)"
            ]
          },
          "metadata": {
            "tags": []
          },
          "execution_count": 95
        }
      ]
    },
    {
      "cell_type": "markdown",
      "metadata": {
        "id": "2FcnbjDylz2p"
      },
      "source": [
        "# Define the loss function"
      ]
    },
    {
      "cell_type": "code",
      "metadata": {
        "id": "hEFch2Pglf9j"
      },
      "source": [
        "loss = nn.MSELoss()"
      ],
      "execution_count": null,
      "outputs": []
    },
    {
      "cell_type": "markdown",
      "metadata": {
        "id": "wPhtBfktmVLf"
      },
      "source": [
        "# Define the optimizer algo"
      ]
    },
    {
      "cell_type": "code",
      "metadata": {
        "id": "puPz9N2kl9Oe"
      },
      "source": [
        "trainer = torch.optim.SGD(net.parameters(), lr=0.0001)"
      ],
      "execution_count": null,
      "outputs": []
    },
    {
      "cell_type": "markdown",
      "metadata": {
        "id": "KJhqNVwLnwtV"
      },
      "source": [
        "# Training"
      ]
    },
    {
      "cell_type": "code",
      "metadata": {
        "colab": {
          "base_uri": "https://localhost:8080/"
        },
        "id": "lTRhpQqmmhdO",
        "outputId": "63b55323-5f52-4812-97bf-0d5764e6e826"
      },
      "source": [
        "num_epochs = 3\r\n",
        "for epoch in range(num_epochs):\r\n",
        "  for X, y in data_iter:\r\n",
        "    l = loss(net(X), y)\r\n",
        "    trainer.zero_grad()\r\n",
        "    l.backward()\r\n",
        "    trainer.step()\r\n",
        "  l = loss(net(features), labels)\r\n",
        "  print(f'epoch {epoch + 1}: loss: {l}')"
      ],
      "execution_count": null,
      "outputs": [
        {
          "output_type": "stream",
          "text": [
            "epoch 1: loss: 9.662886823590065e-05\n",
            "epoch 2: loss: 9.662860423721577e-05\n",
            "epoch 3: loss: 9.662834674684282e-05\n"
          ],
          "name": "stdout"
        }
      ]
    },
    {
      "cell_type": "markdown",
      "metadata": {
        "id": "XFSeUbcJvT0k"
      },
      "source": [
        "# Checking the weights and bias"
      ]
    },
    {
      "cell_type": "code",
      "metadata": {
        "id": "dIPN65kuoreB",
        "colab": {
          "base_uri": "https://localhost:8080/"
        },
        "outputId": "21c5fd86-a7da-4eb9-919c-f94545933f69"
      },
      "source": [
        "w = net[0].weight.data\r\n",
        "print('w',w)\r\n",
        "b = net[0].bias.data\r\n",
        "print('b',b)"
      ],
      "execution_count": null,
      "outputs": [
        {
          "output_type": "stream",
          "text": [
            "w tensor([[ 2.0002, -3.3999]], dtype=torch.float64)\n",
            "b tensor([4.2001], dtype=torch.float64)\n"
          ],
          "name": "stdout"
        }
      ]
    },
    {
      "cell_type": "code",
      "metadata": {
        "colab": {
          "base_uri": "https://localhost:8080/"
        },
        "id": "DaK_aFomvpH9",
        "outputId": "aea58ed5-fedb-4b9d-a7de-001bdb8ebaa5"
      },
      "source": [
        "print(net[0].bias.grad)"
      ],
      "execution_count": null,
      "outputs": [
        {
          "output_type": "stream",
          "text": [
            "tensor([-0.0047], dtype=torch.float64)\n"
          ],
          "name": "stdout"
        }
      ]
    },
    {
      "cell_type": "code",
      "metadata": {
        "id": "AuAea-fbxeh4"
      },
      "source": [
        ""
      ],
      "execution_count": null,
      "outputs": []
    }
  ]
}